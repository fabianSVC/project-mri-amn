{
 "cells": [
  {
   "cell_type": "markdown",
   "id": "926624bb",
   "metadata": {},
   "source": [
    "Librerias"
   ]
  },
  {
   "cell_type": "code",
   "execution_count": null,
   "id": "05846c54",
   "metadata": {},
   "outputs": [],
   "source": [
    "import nibabel as nb\n",
    "import matplotlib.pyplot as plt\n",
    "import matplotlib.image as mpimg\n",
    "from matplotlib.colors import LinearSegmentedColormap\n",
    "from pyrobex.robex import robex\n",
    "from sklearn.cluster import KMeans\n",
    "from scipy import sparse, ndimage\n",
    "import numpy as np"
   ]
  },
  {
   "cell_type": "markdown",
   "id": "5f623fc1",
   "metadata": {},
   "source": [
    "Remosión del craneo"
   ]
  },
  {
   "cell_type": "code",
   "execution_count": null,
   "id": "c4ab6c1b",
   "metadata": {},
   "outputs": [],
   "source": [
    "# img_ = nb.load('MRIsamples/analyze_to_nii/10460_T1w.nii.gz')\n",
    "# stripped, mask = robex(img_)\n",
    "# nb.save(stripped, 'MRIsamples/robex/10460_T1w_stripped.nii.gz')\n",
    "# nb.save(mask, 'MRIsamples/robex/10460_T1w_mask.nii.gz')"
   ]
  },
  {
   "cell_type": "markdown",
   "id": "6ae9ff4c",
   "metadata": {},
   "source": [
    "Creación del sistema lineal"
   ]
  },
  {
   "cell_type": "code",
   "execution_count": null,
   "id": "d7522d5c",
   "metadata": {},
   "outputs": [],
   "source": [
    "def create_A_x_b(img, c):    \n",
    "    x = img.reshape((-1, 1))\n",
    "    b = sparse.csc_array(x.shape)\n",
    "    A = sparse.identity(x.shape[0], format='lil')\n",
    "    scale = -c / 4\n",
    "    i = 1\n",
    "    \n",
    "    for f in range(A.shape[0] - 1):\n",
    "        c1 = f + 1\n",
    "        c2 = f + img.shape[1]\n",
    "        \n",
    "        if i < img.shape[1]:\n",
    "            A[f, c1] = scale\n",
    "            A[c1, f] = scale\n",
    "            \n",
    "            if c2 < A.shape[0]:\n",
    "                A[f, c2] = scale\n",
    "                A[c2, f] = scale\n",
    "                \n",
    "            i += 1\n",
    "        else:\n",
    "            A[f, c2] = scale\n",
    "            A[c2, f] = scale\n",
    "            i = 1\n",
    "            \n",
    "    return A,x,b"
   ]
  },
  {
   "cell_type": "markdown",
   "id": "8e95f70a",
   "metadata": {},
   "source": [
    "Metodo lineal"
   ]
  },
  {
   "cell_type": "code",
   "execution_count": null,
   "id": "0a7c0d1a",
   "metadata": {},
   "outputs": [],
   "source": [
    "def general_method(A, x, b, Q, maxit):\n",
    "    I = sparse.identity(A.shape[0], format='csc')\n",
    "    Q_inv = sparse.linalg.inv(Q)\n",
    "    new_A = I - Q_inv.dot(A)\n",
    "    new_b = Q_inv.dot(b)\n",
    "    i = 0\n",
    "\n",
    "    while i < maxit:\n",
    "        x = new_A.dot(x) + new_b        \n",
    "        i = i + 1\n",
    "\n",
    "    return x"
   ]
  },
  {
   "cell_type": "code",
   "execution_count": null,
   "id": "b31f8d6b",
   "metadata": {},
   "outputs": [],
   "source": [
    "def jacobi_method(A, x, b, maxit):\n",
    "    Q_diag = sparse.identity(A.shape[0], format='csc')\n",
    "    Q_diag.setdiag(A.diagonal())  \n",
    "    return general_method(A, x, b, Q_diag, maxit)"
   ]
  },
  {
   "cell_type": "code",
   "execution_count": null,
   "id": "51dcdcbf",
   "metadata": {},
   "outputs": [],
   "source": [
    "def gaussseidel_method(A, x, b, maxit):\n",
    "    Q_tri_inf = sparse.tril(A, 0, format='csc')\n",
    "    return general_method(A, x, b, Q_tri_inf, maxit)"
   ]
  },
  {
   "cell_type": "markdown",
   "id": "f9ff001d",
   "metadata": {},
   "source": [
    "Metodo no lineal"
   ]
  },
  {
   "cell_type": "code",
   "execution_count": null,
   "id": "2079bb46",
   "metadata": {},
   "outputs": [],
   "source": [
    "def newtonRaphson(img, lineal_method, maxiter_nr, maxiter_lm, c):\n",
    "    A, x, b = create_A_x_b(sparse.csc_array(img), c)\n",
    "    x_lm = sparse.csc_array(x.shape)\n",
    "    i = 0\n",
    "    \n",
    "    while i < maxiter_nr:\n",
    "        x_lm = x + x_lm\n",
    "        delta_x = lineal_method(A, x_lm, b, maxiter_lm)\n",
    "        x = x - delta_x\n",
    "        i += 1\n",
    "    \n",
    "    return x.toarray()"
   ]
  },
  {
   "cell_type": "markdown",
   "id": "8819707b",
   "metadata": {},
   "source": [
    "segmentación"
   ]
  },
  {
   "cell_type": "code",
   "execution_count": null,
   "id": "20a5f760",
   "metadata": {},
   "outputs": [],
   "source": [
    "def segmentation_kmeans(img, x, n_clusters_, tol_):\n",
    "    segs = {\n",
    "        'probabilityimages': [],\n",
    "        'segmentation': None\n",
    "    }\n",
    "       \n",
    "    km = KMeans(n_clusters=n_clusters_, tol=tol_).fit(x)\n",
    "    centers = np.array(km.cluster_centers_, dtype='uint8')\n",
    "    min_color_pos = np.where(centers == np.amin(centers))[0]\n",
    "\n",
    "    seg = np.choose(km.labels_, centers)\n",
    "    seg.shape = img.shape\n",
    "    segs['segmentation'] = seg\n",
    "    \n",
    "    for i in range(n_clusters_):\n",
    "        labels = km.labels_.copy()\n",
    "        labels[labels != i] = min_color_pos\n",
    "        \n",
    "        seg = np.choose(labels, centers)\n",
    "        seg.shape = img.shape\n",
    "        segs['probabilityimages'].append(seg)\n",
    "        \n",
    "    return segs"
   ]
  },
  {
   "cell_type": "markdown",
   "id": "03dc7468",
   "metadata": {},
   "source": [
    "Lectura MRI "
   ]
  },
  {
   "cell_type": "code",
   "execution_count": null,
   "id": "424b2b2e",
   "metadata": {},
   "outputs": [],
   "source": [
    "img = nb.load('MRIsamples/robex/10460_T1w_stripped.nii.gz')\n",
    "\n",
    "img_data = img.get_fdata()\n",
    "print(img_data.dtype)\n",
    "print(img_data.shape)\n",
    "\n",
    "img_slice = img_data[:,:,129]\n",
    "print(img_slice.shape)\n",
    "\n",
    "img_zoom = img_slice[21:157, 40:215]\n",
    "print(img_zoom.shape)\n",
    "\n",
    "plt.imshow(img_zoom.T, origin='lower', cmap='gray')\n",
    "plt.show()"
   ]
  },
  {
   "cell_type": "markdown",
   "id": "5b0a824f",
   "metadata": {},
   "source": [
    "Ejecución"
   ]
  },
  {
   "cell_type": "code",
   "execution_count": null,
   "id": "bb6ac3ce",
   "metadata": {},
   "outputs": [],
   "source": [
    "# img_sf = ndimage.gaussian_filter(img_zoom, sigma=0.8)\n",
    "# plt.imshow(img_sf.T, origin='lower', cmap='gray')\n",
    "# plt.show()"
   ]
  },
  {
   "cell_type": "code",
   "execution_count": null,
   "id": "4c077978",
   "metadata": {
    "collapsed": true
   },
   "outputs": [],
   "source": [
    "for i in range(5, 16):\n",
    "    for j in range(10, 31, 5):\n",
    "        for k in np.arange(0.1, 1, 0.1).round(1): \n",
    "            image_nr_jc = newtonRaphson(img_zoom, jacobi_method, i, j, k)\n",
    "            np.save(f'MRIsamples/test/iter/10460/nr{i}_jc{j}_c{k}', image_nr_jc)"
   ]
  },
  {
   "cell_type": "code",
   "execution_count": null,
   "id": "d9126702",
   "metadata": {},
   "outputs": [],
   "source": [
    "# wcss=[]\n",
    "\n",
    "# for i in range(1,10):\n",
    "#     km = KMeans(n_clusters=i, tol=1e-4)\n",
    "#     km.fit(image_nr_jc)\n",
    "#     wcss.append(km.inertia_)\n",
    "    \n",
    "# plt.title('Método del Codo')\n",
    "# plt.xlabel('No. de clusters')\n",
    "# plt.ylabel('Inercia')\n",
    "# plt.grid(True)\n",
    "# plt.plot(list(range(1, 10)), wcss, marker='o')\n",
    "# plt.show()"
   ]
  },
  {
   "cell_type": "code",
   "execution_count": 17,
   "id": "698998a8",
   "metadata": {},
   "outputs": [],
   "source": [
    "color_segs = LinearSegmentedColormap.from_list('mycmap', ['black', 'green', 'yellow', 'orange'])\n",
    "color_segs1 = LinearSegmentedColormap.from_list('mycmap', ['black', 'green'])\n",
    "color_segs2 = LinearSegmentedColormap.from_list('mycmap', ['black', 'orange'])\n",
    "color_segs3 = LinearSegmentedColormap.from_list('mycmap', ['black', 'yellow'])"
   ]
  },
  {
   "cell_type": "markdown",
   "id": "49ab51ce",
   "metadata": {},
   "source": [
    "Resultados"
   ]
  },
  {
   "cell_type": "code",
   "execution_count": 18,
   "id": "12bca45e",
   "metadata": {},
   "outputs": [
    {
     "ename": "FileNotFoundError",
     "evalue": "[Errno 2] No such file or directory: 'MRIsamples/test/iter/10460/nr14_jc25_c0.6.npy'",
     "output_type": "error",
     "traceback": [
      "\u001b[1;31m---------------------------------------------------------------------------\u001b[0m",
      "\u001b[1;31mFileNotFoundError\u001b[0m                         Traceback (most recent call last)",
      "\u001b[1;32mc:\\Users\\fabia\\Downloads\\project-mri\\main.ipynb Cell 23\u001b[0m in \u001b[0;36m<cell line: 26>\u001b[1;34m()\u001b[0m\n\u001b[0;32m     <a href='vscode-notebook-cell:/c%3A/Users/fabia/Downloads/project-mri/main.ipynb#ch0000022?line=26'>27</a>\u001b[0m \u001b[39mfor\u001b[39;00m j \u001b[39min\u001b[39;00m \u001b[39mrange\u001b[39m(\u001b[39m10\u001b[39m, \u001b[39m31\u001b[39m, \u001b[39m5\u001b[39m):\n\u001b[0;32m     <a href='vscode-notebook-cell:/c%3A/Users/fabia/Downloads/project-mri/main.ipynb#ch0000022?line=27'>28</a>\u001b[0m     \u001b[39mfor\u001b[39;00m k \u001b[39min\u001b[39;00m np\u001b[39m.\u001b[39marange(\u001b[39m0.1\u001b[39m, \u001b[39m1\u001b[39m, \u001b[39m0.1\u001b[39m)\u001b[39m.\u001b[39mround(\u001b[39m1\u001b[39m):  \n\u001b[1;32m---> <a href='vscode-notebook-cell:/c%3A/Users/fabia/Downloads/project-mri/main.ipynb#ch0000022?line=28'>29</a>\u001b[0m         image_nr_jc \u001b[39m=\u001b[39m np\u001b[39m.\u001b[39;49mload(\u001b[39mf\u001b[39;49m\u001b[39m'\u001b[39;49m\u001b[39mMRIsamples/test/iter/10460/nr\u001b[39;49m\u001b[39m{\u001b[39;49;00mi\u001b[39m}\u001b[39;49;00m\u001b[39m_jc\u001b[39;49m\u001b[39m{\u001b[39;49;00mj\u001b[39m}\u001b[39;49;00m\u001b[39m_c\u001b[39;49m\u001b[39m{\u001b[39;49;00mk\u001b[39m}\u001b[39;49;00m\u001b[39m.npy\u001b[39;49m\u001b[39m'\u001b[39;49m)\n\u001b[0;32m     <a href='vscode-notebook-cell:/c%3A/Users/fabia/Downloads/project-mri/main.ipynb#ch0000022?line=29'>30</a>\u001b[0m         img_segs \u001b[39m=\u001b[39m segmentation_kmeans(img_zoom, image_nr_jc, \u001b[39m4\u001b[39m, \u001b[39m1e-4\u001b[39m)\n\u001b[0;32m     <a href='vscode-notebook-cell:/c%3A/Users/fabia/Downloads/project-mri/main.ipynb#ch0000022?line=30'>31</a>\u001b[0m         segmetaion(image_nr_jc, img_segs, i, j, k)\n",
      "File \u001b[1;32m~\\AppData\\Local\\Packages\\PythonSoftwareFoundation.Python.3.10_qbz5n2kfra8p0\\LocalCache\\local-packages\\Python310\\site-packages\\numpy\\lib\\npyio.py:407\u001b[0m, in \u001b[0;36mload\u001b[1;34m(file, mmap_mode, allow_pickle, fix_imports, encoding)\u001b[0m\n\u001b[0;32m    405\u001b[0m     own_fid \u001b[39m=\u001b[39m \u001b[39mFalse\u001b[39;00m\n\u001b[0;32m    406\u001b[0m \u001b[39melse\u001b[39;00m:\n\u001b[1;32m--> 407\u001b[0m     fid \u001b[39m=\u001b[39m stack\u001b[39m.\u001b[39menter_context(\u001b[39mopen\u001b[39;49m(os_fspath(file), \u001b[39m\"\u001b[39;49m\u001b[39mrb\u001b[39;49m\u001b[39m\"\u001b[39;49m))\n\u001b[0;32m    408\u001b[0m     own_fid \u001b[39m=\u001b[39m \u001b[39mTrue\u001b[39;00m\n\u001b[0;32m    410\u001b[0m \u001b[39m# Code to distinguish from NumPy binary files and pickles.\u001b[39;00m\n",
      "\u001b[1;31mFileNotFoundError\u001b[0m: [Errno 2] No such file or directory: 'MRIsamples/test/iter/10460/nr14_jc25_c0.6.npy'"
     ]
    }
   ],
   "source": [
    "def segmetaion(image_nr_lm, img_segs, i, j, k):\n",
    "\n",
    "    figure, axis = plt.subplots(ncols = 4, nrows = 2, figsize=(20, 14))\n",
    "\n",
    "    axis[0, 0].imshow(img_zoom.T, origin='lower', cmap='gray')\n",
    "    axis[0, 0].set_title(\"Original\")\n",
    "\n",
    "    image_nr_lm = image_nr_jc.copy()\n",
    "    image_nr_lm.shape = img_zoom.shape\n",
    "    axis[0, 1].imshow(image_nr_lm.T, origin='lower', cmap='gray')\n",
    "    axis[0, 1].set_title(f'nr{i}_jc{j}_c{k}')\n",
    "\n",
    "    axis[0, 2].imshow(img_segs['segmentation'].T, origin='lower', cmap=color_segs)\n",
    "\n",
    "    axis[0, 3].imshow(img_segs['probabilityimages'][0].T, origin='lower', cmap=color_segs1)\n",
    "\n",
    "    axis[1, 0].imshow(img_segs['probabilityimages'][1].T, origin='lower', cmap=color_segs2)\n",
    "\n",
    "    axis[1, 1].imshow(img_segs['probabilityimages'][2].T, origin='lower', cmap=color_segs3)\n",
    "\n",
    "    axis[1, 2].imshow(img_segs['probabilityimages'][3].T, origin='lower', cmap=color_segs3)\n",
    "\n",
    "    figure.savefig(f'MRIsamples/test/segmetations/10460/nr{i}_jc{j}_c{k}.png')\n",
    "    plt.close(figure)\n",
    "\n",
    "for i in range(5, 16):\n",
    "    for j in range(10, 31, 5):\n",
    "        for k in np.arange(0.1, 1, 0.1).round(1):  \n",
    "            image_nr_jc = np.load(f'MRIsamples/test/iter/10460/nr{i}_jc{j}_c{k}.npy')\n",
    "            img_segs = segmentation_kmeans(img_zoom, image_nr_jc, 4, 1e-4)\n",
    "            segmetaion(image_nr_jc, img_segs, i, j, k)\n",
    "            "
   ]
  }
 ],
 "metadata": {
  "kernelspec": {
   "display_name": "Python 3.10.5 64-bit (windows store)",
   "language": "python",
   "name": "python3"
  },
  "language_info": {
   "codemirror_mode": {
    "name": "ipython",
    "version": 3
   },
   "file_extension": ".py",
   "mimetype": "text/x-python",
   "name": "python",
   "nbconvert_exporter": "python",
   "pygments_lexer": "ipython3",
   "version": "3.10.6"
  },
  "vscode": {
   "interpreter": {
    "hash": "0a6db39982442282e9e9123dfaf6d9ff634c3ea2288ab485f1352318f2b65851"
   }
  }
 },
 "nbformat": 4,
 "nbformat_minor": 5
}
